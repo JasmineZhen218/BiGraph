{
 "cells": [
  {
   "cell_type": "code",
   "execution_count": 7,
   "metadata": {},
   "outputs": [],
   "source": [
    "import pandas as pd\n",
    "import random"
   ]
  },
  {
   "cell_type": "markdown",
   "metadata": {},
   "source": [
    "### Extract Discovery set from Danenberg_et_al\n",
    "* 1) data filtering: exclude patients with no clinical data and images with less than 500 cells\n",
    "* 2) Random partition: for reproducibility purpose, we use a random seed."
   ]
  },
  {
   "cell_type": "code",
   "execution_count": 8,
   "metadata": {},
   "outputs": [
    {
     "name": "stdout",
     "output_type": "stream",
     "text": [
      "Initially\n",
      "718 patients (794 images) with cell data, 2604 patients with clinical data, \n",
      "\n",
      "Remove images without invasive tumor\n",
      "693 patients (749 images) with cell data, 2604 patients with clinical data, \n",
      "\n",
      "Remove patients with no clinical data\n",
      "683 patients (737 images) with cell data and clinical data, \n",
      "\n",
      "Remove images with less than 500 cells\n",
      "579 patients (621 images) with more than 500 cells and clinical data, \n",
      "\n",
      "After splitting into discovery and validation sets\n",
      "379 patients (404 images) with more than 500 cells and clinical data in the discovery set, \n"
     ]
    }
   ],
   "source": [
    "# read single cell data and clinical data\n",
    "cells = pd.read_csv(\"Datasets/Danenberg_et_al/cells.csv\")\n",
    "clinical = pd.read_csv(\"Datasets/Danenberg_et_al/clinical.csv\")\n",
    "print(\"Initially,\")\n",
    "print(\n",
    "    \"{} patients ({} images) with cell data, {} patients with clinical data, \".format(\n",
    "        len(cells[\"metabric_id\"].unique()),\n",
    "        len(cells[\"ImageNumber\"].unique()),\n",
    "        len(clinical[\"metabric_id\"].unique()),\n",
    "    )\n",
    ")\n",
    "# remove images without invasive tumor\n",
    "print(\"\\nRemove images without invasive tumor,\")\n",
    "cells = cells.loc[cells.isTumour == 1]\n",
    "print(\n",
    "    \"{} patients ({} images) with cell data, {} patients with clinical data, \".format(\n",
    "        len(cells[\"metabric_id\"].unique()),\n",
    "        len(cells[\"ImageNumber\"].unique()),\n",
    "        len(clinical[\"metabric_id\"].unique()),\n",
    "    )\n",
    ")\n",
    "# remove patients with no clinical data\n",
    "print(\"\\nRemove patients with no clinical data,\")\n",
    "cells = cells.loc[cells[\"metabric_id\"].isin(clinical[\"metabric_id\"])]\n",
    "print(\n",
    "    \"{} patients ({} images) with cell data and clinical data, \".format(\n",
    "        len(cells[\"metabric_id\"].unique()),\n",
    "        len(cells[\"ImageNumber\"].unique()),\n",
    "    )\n",
    ")\n",
    "# remove images with less than 500 cells\n",
    "print(\"\\nRemove images with less than 500 cells\")\n",
    "cells_per_image = cells.groupby(\"ImageNumber\").size()\n",
    "cells = cells.loc[\n",
    "    cells[\"ImageNumber\"].isin(cells_per_image[cells_per_image > 500].index)\n",
    "]\n",
    "clinical = clinical.loc[clinical[\"metabric_id\"].isin(cells[\"metabric_id\"].unique())]\n",
    "print(\n",
    "    \"{} patients ({} images) with more than 500 cells and clinical data, \".format(\n",
    "        len(cells[\"metabric_id\"].unique()),\n",
    "        len(cells[\"ImageNumber\"].unique()),\n",
    "    )\n",
    ")\n",
    "\n",
    "random.seed(0)\n",
    "Subset_id = [1] * (len(clinical) - 200) + [2] * 200\n",
    "random.shuffle(Subset_id)\n",
    "clinical['Subset_id'] = Subset_id\n",
    "cells_discovery = cells.loc[cells[\"metabric_id\"].isin(clinical.loc[clinical['Subset_id'] == 1, \"metabric_id\"])]\n",
    "cells_validation = cells.loc[cells[\"metabric_id\"].isin(clinical.loc[clinical['Subset_id'] == 2, \"metabric_id\"])]\n",
    "print(\"\\nAfter splitting into discovery and validation sets,\")\n",
    "print(\n",
    "    \"{} patients ({} images) with more than 500 cells and clinical data in the discovery set, \".format(\n",
    "        len(cells_discovery[\"metabric_id\"].unique()),\n",
    "        len(cells_discovery[\"ImageNumber\"].unique()),\n",
    "    )\n",
    ")"
   ]
  },
  {
   "cell_type": "markdown",
   "metadata": {},
   "source": [
    "### Standardize data, and Generate cellular graphs"
   ]
  },
  {
   "cell_type": "markdown",
   "metadata": {},
   "source": []
  },
  {
   "cell_type": "markdown",
   "metadata": {},
   "source": [
    "### Identify TME patterns with Soft WL subtree kernel"
   ]
  },
  {
   "cell_type": "markdown",
   "metadata": {},
   "source": []
  }
 ],
 "metadata": {
  "kernelspec": {
   "display_name": "cell-gnn",
   "language": "python",
   "name": "python3"
  },
  "language_info": {
   "codemirror_mode": {
    "name": "ipython",
    "version": 3
   },
   "file_extension": ".py",
   "mimetype": "text/x-python",
   "name": "python",
   "nbconvert_exporter": "python",
   "pygments_lexer": "ipython3",
   "version": "3.8.10"
  }
 },
 "nbformat": 4,
 "nbformat_minor": 2
}
