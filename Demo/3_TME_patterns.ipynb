{
 "cells": [
  {
   "cell_type": "code",
   "execution_count": 1,
   "metadata": {},
   "outputs": [],
   "source": [
    "import pandas as pd\n",
    "import random\n",
    "from definitions import get_node_color, get_node_id\n",
    "import sys\n",
    "import numpy as np\n",
    "sys.path.append(\"./..\")\n",
    "from cell_graph import Cell_Graph\n",
    "from soft_wl_subtree import Soft_WL_Subtree"
   ]
  },
  {
   "cell_type": "markdown",
   "metadata": {},
   "source": [
    "### Extract Discovery set from Danenberg_et_al\n",
    "* 1) data filtering: exclude patients with no clinical data and images with less than 500 cells\n",
    "* 2) Random partition: for reproducibility purpose, we use a random seed."
   ]
  },
  {
   "cell_type": "code",
   "execution_count": 2,
   "metadata": {},
   "outputs": [
    {
     "name": "stdout",
     "output_type": "stream",
     "text": [
      "Initially,\n",
      "718 patients (794 images) with cell data, 2604 patients with clinical data, \n",
      "\n",
      "Remove images without invasive tumor,\n",
      "693 patients (749 images) with cell data, 2604 patients with clinical data, \n",
      "\n",
      "Remove patients with no clinical data,\n",
      "683 patients (737 images) with cell data and clinical data, \n",
      "\n",
      "Remove images with less than 500 cells\n",
      "579 patients (621 images) with more than 500 cells and clinical data, \n",
      "\n",
      "After splitting into discovery and validation sets,\n",
      "379 patients (404 images) with more than 500 cells and clinical data in the discovery set, \n"
     ]
    }
   ],
   "source": [
    "# read single cell data and clinical data\n",
    "cells = pd.read_csv(\"Datasets/Danenberg_et_al/cells.csv\")\n",
    "clinical = pd.read_csv(\"Datasets/Danenberg_et_al/clinical.csv\")\n",
    "print(\"Initially,\")\n",
    "print(\n",
    "    \"{} patients ({} images) with cell data, {} patients with clinical data, \".format(\n",
    "        len(cells[\"metabric_id\"].unique()),\n",
    "        len(cells[\"ImageNumber\"].unique()),\n",
    "        len(clinical[\"metabric_id\"].unique()),\n",
    "    )\n",
    ")\n",
    "# remove images without invasive tumor\n",
    "print(\"\\nRemove images without invasive tumor,\")\n",
    "cells = cells.loc[cells.isTumour == 1]\n",
    "print(\n",
    "    \"{} patients ({} images) with cell data, {} patients with clinical data, \".format(\n",
    "        len(cells[\"metabric_id\"].unique()),\n",
    "        len(cells[\"ImageNumber\"].unique()),\n",
    "        len(clinical[\"metabric_id\"].unique()),\n",
    "    )\n",
    ")\n",
    "# remove patients with no clinical data\n",
    "print(\"\\nRemove patients with no clinical data,\")\n",
    "cells = cells.loc[cells[\"metabric_id\"].isin(clinical[\"metabric_id\"])]\n",
    "print(\n",
    "    \"{} patients ({} images) with cell data and clinical data, \".format(\n",
    "        len(cells[\"metabric_id\"].unique()),\n",
    "        len(cells[\"ImageNumber\"].unique()),\n",
    "    )\n",
    ")\n",
    "# remove images with less than 500 cells\n",
    "print(\"\\nRemove images with less than 500 cells\")\n",
    "cells_per_image = cells.groupby(\"ImageNumber\").size()\n",
    "cells = cells.loc[\n",
    "    cells[\"ImageNumber\"].isin(cells_per_image[cells_per_image > 500].index)\n",
    "]\n",
    "clinical = clinical.loc[clinical[\"metabric_id\"].isin(cells[\"metabric_id\"].unique())]\n",
    "print(\n",
    "    \"{} patients ({} images) with more than 500 cells and clinical data, \".format(\n",
    "        len(cells[\"metabric_id\"].unique()),\n",
    "        len(cells[\"ImageNumber\"].unique()),\n",
    "    )\n",
    ")\n",
    "\n",
    "random.seed(0)\n",
    "Subset_id = [1] * (len(clinical) - 200) + [2] * 200\n",
    "random.shuffle(Subset_id)\n",
    "clinical['Subset_id'] = Subset_id\n",
    "cells_discovery = cells.loc[cells[\"metabric_id\"].isin(clinical.loc[clinical['Subset_id'] == 1, \"metabric_id\"])]\n",
    "cells_validation = cells.loc[cells[\"metabric_id\"].isin(clinical.loc[clinical['Subset_id'] == 2, \"metabric_id\"])]\n",
    "print(\"\\nAfter splitting into discovery and validation sets,\")\n",
    "print(\n",
    "    \"{} patients ({} images) with more than 500 cells and clinical data in the discovery set, \".format(\n",
    "        len(cells_discovery[\"metabric_id\"].unique()),\n",
    "        len(cells_discovery[\"ImageNumber\"].unique()),\n",
    "    )\n",
    ")"
   ]
  },
  {
   "cell_type": "markdown",
   "metadata": {},
   "source": [
    "### Standardize data, and Generate cellular graphs"
   ]
  },
  {
   "cell_type": "code",
   "execution_count": 3,
   "metadata": {},
   "outputs": [],
   "source": [
    "# Assign cell type Id based on meta description column\n",
    "cells['cellTypeID'] = cells['meta_description'].map(get_node_id('Danenberg', 'CellType'))\n",
    "# standardize column names\n",
    "patientID_colname = \"metabric_id\"\n",
    "imageID_colname = \"ImageNumber\"\n",
    "celltypeID_colname = \"cellTypeID\"\n",
    "coorX_colname = \"Location_Center_X\"\n",
    "coorY_colname = \"Location_Center_Y\"\n",
    "cells = cells.rename(\n",
    "            columns={\n",
    "                patientID_colname: \"patientID\",\n",
    "                imageID_colname: \"imageID\",\n",
    "                celltypeID_colname: \"celltypeID\",\n",
    "                coorX_colname: \"coorX\",\n",
    "                coorY_colname: \"coorY\",\n",
    "            }\n",
    "        )"
   ]
  },
  {
   "cell_type": "code",
   "execution_count": 4,
   "metadata": {},
   "outputs": [
    {
     "name": "stdout",
     "output_type": "stream",
     "text": [
      "Warning: patient MB-0190 has 2 images.\n",
      "Warning: patient MB-0442 has 2 images.\n",
      "Warning: patient MB-0321 has 2 images.\n",
      "Warning: patient MB-0317 has 2 images.\n",
      "Warning: patient MB-0353 has 2 images.\n",
      "Warning: patient MB-0354 has 2 images.\n",
      "Warning: patient MB-0573 has 2 images.\n",
      "Warning: patient MB-0361 has 2 images.\n",
      "Warning: patient MB-0081 has 2 images.\n",
      "Warning: patient MB-0322 has 2 images.\n",
      "Warning: patient MB-0325 has 2 images.\n",
      "Warning: patient MB-0545 has 2 images.\n",
      "Warning: patient MB-0269 has 2 images.\n",
      "Warning: patient MB-0551 has 2 images.\n",
      "Warning: patient MB-0260 has 2 images.\n",
      "Warning: patient MB-0359 has 2 images.\n",
      "Warning: patient MB-0609 has 2 images.\n",
      "Warning: patient MB-0126 has 2 images.\n",
      "Warning: patient MB-0138 has 2 images.\n",
      "Warning: patient MB-0135 has 2 images.\n",
      "Warning: patient MB-0158 has 2 images.\n",
      "Warning: patient MB-0167 has 2 images.\n",
      "Warning: patient MB-0151 has 2 images.\n",
      "Warning: patient MB-0175 has 2 images.\n",
      "Warning: patient MB-0177 has 2 images.\n",
      "Warning: patient MB-0184 has 2 images.\n",
      "Warning: patient MB-0188 has 2 images.\n",
      "Warning: patient MB-0206 has 2 images.\n",
      "Warning: patient MB-0195 has 2 images.\n",
      "Warning: patient MB-0200 has 2 images.\n",
      "Warning: patient MB-0203 has 2 images.\n",
      "Warning: patient MB-0384 has 2 images.\n",
      "Warning: patient MB-0373 has 2 images.\n",
      "Warning: patient MB-0399 has 2 images.\n",
      "Warning: patient MB-0538 has 2 images.\n",
      "Warning: patient MB-0438 has 2 images.\n",
      "Warning: patient MB-0412 has 2 images.\n",
      "Warning: patient MB-0431 has 2 images.\n",
      "Warning: patient MB-0490 has 2 images.\n",
      "Warning: patient MB-0583 has 2 images.\n",
      "Warning: patient MB-0145 has 2 images.\n",
      "Warning: patient MB-0336 has 2 images.\n",
      "There are 579 patients/cell graphs\n",
      "The first cell graph is a tuple with 3 elements: (patient_id, graph, cell_types)\n",
      "\tThe first element is the patient id: MB-0282\n",
      "\tThe second element is the adjacnecy matrix, with the shape of (1624, 1624)\n",
      "\tThe third element is the cell types, with the shape of (1624, 32)\n",
      "There are 1624 cells with 2 unique cell types\n"
     ]
    }
   ],
   "source": [
    "cell_graph_ = Cell_Graph(a = 0.01)\n",
    "Cell_graphs = cell_graph_.generate(cells)\n",
    "print(\"There are {} patients/cell graphs\".format(len(Cell_graphs)))\n",
    "\n",
    "\n",
    "cell_graph = Cell_graphs[0]\n",
    "print(\"The first cell graph is a tuple with 3 elements: (patient_id, graph, cell_types)\")\n",
    "print(\"\\tThe first element is the patient id: {}\".format(cell_graph[0]))\n",
    "print(\"\\tThe second element is the adjacnecy matrix, with the shape of {}\".format(cell_graph[1].shape))\n",
    "print(\"\\tThe third element is the cell types, with the shape of {}\".format(cell_graph[2].shape))\n",
    "print(\n",
    "        \"There are {} cells with {} unique cell types\".format(\n",
    "            cell_graph[1].shape[0], np.unique(cell_graph[2]).shape[0]\n",
    "        )\n",
    "    )\n"
   ]
  },
  {
   "cell_type": "markdown",
   "metadata": {},
   "source": [
    "### Identify TME patterns with Soft WL subtree kernel"
   ]
  },
  {
   "cell_type": "code",
   "execution_count": 5,
   "metadata": {},
   "outputs": [
    {
     "name": "stdout",
     "output_type": "stream",
     "text": [
      "/cis/home/zwang/.bashrc: line 40: /cis/home/zwang/.local/bin/virtualenvwrapper.sh: No such file or directory\n",
      "Initialize SoftWL: n_iter=2, n_jobs=-1, k=100, normalize=True\n",
      "Discovering TME patterns from 579 graphs, median number of nodes is 1475.0, node feature matrix dimension is (1624, 32)\n",
      "\t 1) Graph Convolution\n",
      "\t 2) Clustering Subtrees\n",
      "Finding 100 nearest neighbors using minkowski metric and 'auto' algorithm\n"
     ]
    }
   ],
   "source": [
    "! export OMP_NUM_THREADS=1 # to avoid the insufficient memory error\n",
    "soft_wl_subtree_ = Soft_WL_Subtree(\n",
    "            n_iter=2, k=100\n",
    "        )\n",
    "Cell_graphs_prime, Signatures = soft_wl_subtree_.discover_patterns(Cell_graphs)\n",
    "print(\"There are {} discovered patterns\".format(len(Signatures)))\n",
    "cell_graph_prime = Cell_graphs_prime[0]\n",
    "print(\"The first Cell_graphs_prime element (and all others) is a tuple: (patient_id, adj, patterns)\")\n",
    "print(\"\\tThe first element is the patient id: {}\".format(cell_graph_prime[0]))\n",
    "print(\"\\tThe second element is the adjacnecy matrix, with the shape of {}\".format(cell_graph_prime[1].shape))\n",
    "print(\"\\tThe third element is the patterns, with the shape of {}\".format(cell_graph_prime[2].shape))\n",
    "print(\n",
    "        \"There are {} cells with {} unique patterns\".format(\n",
    "            cell_graph_prime[1].shape[0], np.unique(cell_graph_prime[2]).shape[0]\n",
    "        )\n",
    "    )\n",
    "\n"
   ]
  },
  {
   "cell_type": "code",
   "execution_count": null,
   "metadata": {},
   "outputs": [],
   "source": []
  }
 ],
 "metadata": {
  "kernelspec": {
   "display_name": "cell-gnn",
   "language": "python",
   "name": "python3"
  },
  "language_info": {
   "codemirror_mode": {
    "name": "ipython",
    "version": 3
   },
   "file_extension": ".py",
   "mimetype": "text/x-python",
   "name": "python",
   "nbconvert_exporter": "python",
   "pygments_lexer": "ipython3",
   "version": "3.8.10"
  }
 },
 "nbformat": 4,
 "nbformat_minor": 2
}
