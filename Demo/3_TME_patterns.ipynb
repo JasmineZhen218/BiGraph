{
 "cells": [
  {
   "cell_type": "code",
   "execution_count": 12,
   "metadata": {},
   "outputs": [],
   "source": [
    "import pandas as pd\n",
    "import random\n",
    "from definitions import get_node_color, get_node_id\n",
    "import sys\n",
    "import numpy as np\n",
    "sys.path.append(\"./..\")\n",
    "from cell_graph import Cell_Graph"
   ]
  },
  {
   "cell_type": "markdown",
   "metadata": {},
   "source": [
    "### Extract Discovery set from Danenberg_et_al\n",
    "* 1) data filtering: exclude patients with no clinical data and images with less than 500 cells\n",
    "* 2) Random partition: for reproducibility purpose, we use a random seed."
   ]
  },
  {
   "cell_type": "code",
   "execution_count": 8,
   "metadata": {},
   "outputs": [
    {
     "name": "stdout",
     "output_type": "stream",
     "text": [
      "Initially\n",
      "718 patients (794 images) with cell data, 2604 patients with clinical data, \n",
      "\n",
      "Remove images without invasive tumor\n",
      "693 patients (749 images) with cell data, 2604 patients with clinical data, \n",
      "\n",
      "Remove patients with no clinical data\n",
      "683 patients (737 images) with cell data and clinical data, \n",
      "\n",
      "Remove images with less than 500 cells\n",
      "579 patients (621 images) with more than 500 cells and clinical data, \n",
      "\n",
      "After splitting into discovery and validation sets\n",
      "379 patients (404 images) with more than 500 cells and clinical data in the discovery set, \n"
     ]
    }
   ],
   "source": [
    "# read single cell data and clinical data\n",
    "cells = pd.read_csv(\"Datasets/Danenberg_et_al/cells.csv\")\n",
    "clinical = pd.read_csv(\"Datasets/Danenberg_et_al/clinical.csv\")\n",
    "print(\"Initially,\")\n",
    "print(\n",
    "    \"{} patients ({} images) with cell data, {} patients with clinical data, \".format(\n",
    "        len(cells[\"metabric_id\"].unique()),\n",
    "        len(cells[\"ImageNumber\"].unique()),\n",
    "        len(clinical[\"metabric_id\"].unique()),\n",
    "    )\n",
    ")\n",
    "# remove images without invasive tumor\n",
    "print(\"\\nRemove images without invasive tumor,\")\n",
    "cells = cells.loc[cells.isTumour == 1]\n",
    "print(\n",
    "    \"{} patients ({} images) with cell data, {} patients with clinical data, \".format(\n",
    "        len(cells[\"metabric_id\"].unique()),\n",
    "        len(cells[\"ImageNumber\"].unique()),\n",
    "        len(clinical[\"metabric_id\"].unique()),\n",
    "    )\n",
    ")\n",
    "# remove patients with no clinical data\n",
    "print(\"\\nRemove patients with no clinical data,\")\n",
    "cells = cells.loc[cells[\"metabric_id\"].isin(clinical[\"metabric_id\"])]\n",
    "print(\n",
    "    \"{} patients ({} images) with cell data and clinical data, \".format(\n",
    "        len(cells[\"metabric_id\"].unique()),\n",
    "        len(cells[\"ImageNumber\"].unique()),\n",
    "    )\n",
    ")\n",
    "# remove images with less than 500 cells\n",
    "print(\"\\nRemove images with less than 500 cells\")\n",
    "cells_per_image = cells.groupby(\"ImageNumber\").size()\n",
    "cells = cells.loc[\n",
    "    cells[\"ImageNumber\"].isin(cells_per_image[cells_per_image > 500].index)\n",
    "]\n",
    "clinical = clinical.loc[clinical[\"metabric_id\"].isin(cells[\"metabric_id\"].unique())]\n",
    "print(\n",
    "    \"{} patients ({} images) with more than 500 cells and clinical data, \".format(\n",
    "        len(cells[\"metabric_id\"].unique()),\n",
    "        len(cells[\"ImageNumber\"].unique()),\n",
    "    )\n",
    ")\n",
    "\n",
    "random.seed(0)\n",
    "Subset_id = [1] * (len(clinical) - 200) + [2] * 200\n",
    "random.shuffle(Subset_id)\n",
    "clinical['Subset_id'] = Subset_id\n",
    "cells_discovery = cells.loc[cells[\"metabric_id\"].isin(clinical.loc[clinical['Subset_id'] == 1, \"metabric_id\"])]\n",
    "cells_validation = cells.loc[cells[\"metabric_id\"].isin(clinical.loc[clinical['Subset_id'] == 2, \"metabric_id\"])]\n",
    "print(\"\\nAfter splitting into discovery and validation sets,\")\n",
    "print(\n",
    "    \"{} patients ({} images) with more than 500 cells and clinical data in the discovery set, \".format(\n",
    "        len(cells_discovery[\"metabric_id\"].unique()),\n",
    "        len(cells_discovery[\"ImageNumber\"].unique()),\n",
    "    )\n",
    ")"
   ]
  },
  {
   "cell_type": "markdown",
   "metadata": {},
   "source": [
    "### Standardize data, and Generate cellular graphs"
   ]
  },
  {
   "cell_type": "code",
   "execution_count": 10,
   "metadata": {},
   "outputs": [],
   "source": [
    "# Assign cell type Id based on meta description column\n",
    "cells['cellTypeID'] = cells['meta_description'].map(get_node_id('Danenberg', 'CellType'))\n",
    "# standardize column names\n",
    "patientID_colname = \"metabric_id\"\n",
    "imageID_colname = \"ImageNumber\"\n",
    "celltypeID_colname = \"cellTypeID\"\n",
    "coorX_colname = \"Location_Center_X\"\n",
    "coorY_colname = \"Location_Center_Y\"\n",
    "cells = cells.rename(\n",
    "            columns={\n",
    "                patientID_colname: \"patientID\",\n",
    "                imageID_colname: \"imageID\",\n",
    "                celltypeID_colname: \"celltypeID\",\n",
    "                coorX_colname: \"coorX\",\n",
    "                coorY_colname: \"coorY\",\n",
    "            }\n",
    "        )"
   ]
  },
  {
   "cell_type": "markdown",
   "metadata": {},
   "source": [
    "### Identify TME patterns with Soft WL subtree kernel"
   ]
  },
  {
   "cell_type": "code",
   "execution_count": 13,
   "metadata": {},
   "outputs": [
    {
     "name": "stdout",
     "output_type": "stream",
     "text": [
      "Warning: patient MB-0190 has 2 images.\n"
     ]
    },
    {
     "ename": "ValueError",
     "evalue": "Mismatched array shapes in block along axis 0.",
     "output_type": "error",
     "traceback": [
      "\u001b[0;31m---------------------------------------------------------------------------\u001b[0m",
      "\u001b[0;31mValueError\u001b[0m                                Traceback (most recent call last)",
      "Cell \u001b[0;32mIn[13], line 2\u001b[0m\n\u001b[1;32m      1\u001b[0m cell_graph_ \u001b[38;5;241m=\u001b[39m Cell_Graph(a \u001b[38;5;241m=\u001b[39m \u001b[38;5;241m0.01\u001b[39m)\n\u001b[0;32m----> 2\u001b[0m Cell_graphs \u001b[38;5;241m=\u001b[39m \u001b[43mcell_graph_\u001b[49m\u001b[38;5;241;43m.\u001b[39;49m\u001b[43mgenerate\u001b[49m\u001b[43m(\u001b[49m\u001b[43mcells\u001b[49m\u001b[43m)\u001b[49m\n\u001b[1;32m      3\u001b[0m \u001b[38;5;28mprint\u001b[39m(\u001b[38;5;124m\"\u001b[39m\u001b[38;5;124mThere are \u001b[39m\u001b[38;5;132;01m{}\u001b[39;00m\u001b[38;5;124m patients/cell graphs\u001b[39m\u001b[38;5;124m\"\u001b[39m\u001b[38;5;241m.\u001b[39mformat(\u001b[38;5;28mlen\u001b[39m(Cell_graphs)))\n\u001b[1;32m      6\u001b[0m cell_graph \u001b[38;5;241m=\u001b[39m Cell_graphs[\u001b[38;5;241m0\u001b[39m]\n",
      "File \u001b[0;32m~/Projects/BiGraph4TME/Demo/./../cell_graph.py:142\u001b[0m, in \u001b[0;36mCell_Graph.generate\u001b[0;34m(self, singleCell_data)\u001b[0m\n\u001b[1;32m    140\u001b[0m         x \u001b[38;5;241m=\u001b[39m image_data[\u001b[38;5;124m\"\u001b[39m\u001b[38;5;124mcelltypeID\u001b[39m\u001b[38;5;124m\"\u001b[39m]\u001b[38;5;241m.\u001b[39mvalues\n\u001b[1;32m    141\u001b[0m         cell_graphs\u001b[38;5;241m.\u001b[39mappend((patient_id, adj, x))\n\u001b[0;32m--> 142\u001b[0m     cell_graph \u001b[38;5;241m=\u001b[39m \u001b[38;5;28;43mself\u001b[39;49m\u001b[38;5;241;43m.\u001b[39;49m\u001b[43mmerge_cell_graphs\u001b[49m\u001b[43m(\u001b[49m\u001b[43mcell_graphs\u001b[49m\u001b[43m)\u001b[49m\n\u001b[1;32m    144\u001b[0m \u001b[38;5;28;01melse\u001b[39;00m:\n\u001b[1;32m    145\u001b[0m     pos \u001b[38;5;241m=\u001b[39m patient_data[[\u001b[38;5;124m\"\u001b[39m\u001b[38;5;124mcoorX\u001b[39m\u001b[38;5;124m\"\u001b[39m, \u001b[38;5;124m\"\u001b[39m\u001b[38;5;124mcoorY\u001b[39m\u001b[38;5;124m\"\u001b[39m]]\u001b[38;5;241m.\u001b[39mvalues\n",
      "File \u001b[0;32m~/Projects/BiGraph4TME/Demo/./../cell_graph.py:110\u001b[0m, in \u001b[0;36mCell_Graph.merge_cell_graphs\u001b[0;34m(self, cell_graphs)\u001b[0m\n\u001b[1;32m    108\u001b[0m adjs \u001b[38;5;241m=\u001b[39m [cell_graph[\u001b[38;5;241m1\u001b[39m] \u001b[38;5;28;01mfor\u001b[39;00m cell_graph \u001b[38;5;129;01min\u001b[39;00m cell_graphs]\n\u001b[1;32m    109\u001b[0m xs \u001b[38;5;241m=\u001b[39m [cell_graph[\u001b[38;5;241m2\u001b[39m] \u001b[38;5;28;01mfor\u001b[39;00m cell_graph \u001b[38;5;129;01min\u001b[39;00m cell_graphs]\n\u001b[0;32m--> 110\u001b[0m adj \u001b[38;5;241m=\u001b[39m \u001b[38;5;28;43mself\u001b[39;49m\u001b[38;5;241;43m.\u001b[39;49m\u001b[43mblock_digonal\u001b[49m\u001b[43m(\u001b[49m\u001b[43madjs\u001b[49m\u001b[43m)\u001b[49m\n\u001b[1;32m    111\u001b[0m x \u001b[38;5;241m=\u001b[39m np\u001b[38;5;241m.\u001b[39mconcatenate(xs, axis\u001b[38;5;241m=\u001b[39m\u001b[38;5;241m0\u001b[39m)\n\u001b[1;32m    112\u001b[0m \u001b[38;5;28;01mreturn\u001b[39;00m (patient_id, adj, x)\n",
      "File \u001b[0;32m~/Projects/BiGraph4TME/Demo/./../cell_graph.py:62\u001b[0m, in \u001b[0;36mCell_Graph.block_digonal\u001b[0;34m(self, arrays)\u001b[0m\n\u001b[1;32m     29\u001b[0m \u001b[38;5;28;01mdef\u001b[39;00m \u001b[38;5;21mblock_digonal\u001b[39m(\u001b[38;5;28mself\u001b[39m, arrays):\n\u001b[1;32m     30\u001b[0m \u001b[38;5;250m    \u001b[39m\u001b[38;5;124;03m\"\"\"\u001b[39;00m\n\u001b[1;32m     31\u001b[0m \u001b[38;5;124;03m    Concatenate arrays along the diagonal.\u001b[39;00m\n\u001b[1;32m     32\u001b[0m \u001b[38;5;124;03m    parameters\u001b[39;00m\n\u001b[0;32m   (...)\u001b[0m\n\u001b[1;32m     60\u001b[0m \u001b[38;5;124;03m        [ 0  0  0  0  0  0 15 16]]\u001b[39;00m\n\u001b[1;32m     61\u001b[0m \u001b[38;5;124;03m    \"\"\"\u001b[39;00m\n\u001b[0;32m---> 62\u001b[0m     \u001b[38;5;28;01mreturn\u001b[39;00m \u001b[43mnp\u001b[49m\u001b[38;5;241;43m.\u001b[39;49m\u001b[43mblock\u001b[49m\u001b[43m(\u001b[49m\n\u001b[1;32m     63\u001b[0m \u001b[43m        \u001b[49m\u001b[43m[\u001b[49m\n\u001b[1;32m     64\u001b[0m \u001b[43m            \u001b[49m\u001b[43m[\u001b[49m\n\u001b[1;32m     65\u001b[0m \u001b[43m                \u001b[49m\u001b[43mnp\u001b[49m\u001b[38;5;241;43m.\u001b[39;49m\u001b[43mzeros\u001b[49m\u001b[43m(\u001b[49m\n\u001b[1;32m     66\u001b[0m \u001b[43m                    \u001b[49m\u001b[43m(\u001b[49m\n\u001b[1;32m     67\u001b[0m \u001b[43m                        \u001b[49m\u001b[43marray\u001b[49m\u001b[38;5;241;43m.\u001b[39;49m\u001b[43mshape\u001b[49m\u001b[43m[\u001b[49m\u001b[38;5;241;43m0\u001b[39;49m\u001b[43m]\u001b[49m\u001b[43m,\u001b[49m\n\u001b[1;32m     68\u001b[0m \u001b[43m                        \u001b[49m\u001b[38;5;28;43msum\u001b[39;49m\u001b[43m(\u001b[49m\u001b[43ma\u001b[49m\u001b[38;5;241;43m.\u001b[39;49m\u001b[43mshape\u001b[49m\u001b[43m[\u001b[49m\u001b[38;5;241;43m1\u001b[39;49m\u001b[43m]\u001b[49m\u001b[43m \u001b[49m\u001b[38;5;28;43;01mfor\u001b[39;49;00m\u001b[43m \u001b[49m\u001b[43ma\u001b[49m\u001b[43m \u001b[49m\u001b[38;5;129;43;01min\u001b[39;49;00m\u001b[43m \u001b[49m\u001b[43marrays\u001b[49m\u001b[43m \u001b[49m\u001b[38;5;28;43;01mif\u001b[39;49;00m\u001b[43m \u001b[49m\u001b[43marray\u001b[49m\u001b[43m \u001b[49m\u001b[38;5;129;43;01mis\u001b[39;49;00m\u001b[43m \u001b[49m\u001b[38;5;129;43;01mnot\u001b[39;49;00m\u001b[43m \u001b[49m\u001b[43ma\u001b[49m\u001b[43m)\u001b[49m\u001b[43m,\u001b[49m\n\u001b[1;32m     69\u001b[0m \u001b[43m                    \u001b[49m\u001b[43m)\u001b[49m\n\u001b[1;32m     70\u001b[0m \u001b[43m                \u001b[49m\u001b[43m)\u001b[49m\u001b[43m,\u001b[49m\n\u001b[1;32m     71\u001b[0m \u001b[43m                \u001b[49m\u001b[43marray\u001b[49m\u001b[43m,\u001b[49m\n\u001b[1;32m     72\u001b[0m \u001b[43m                \u001b[49m\u001b[43mnp\u001b[49m\u001b[38;5;241;43m.\u001b[39;49m\u001b[43mzeros\u001b[49m\u001b[43m(\u001b[49m\n\u001b[1;32m     73\u001b[0m \u001b[43m                    \u001b[49m\u001b[43m(\u001b[49m\n\u001b[1;32m     74\u001b[0m \u001b[43m                        \u001b[49m\u001b[43marray\u001b[49m\u001b[38;5;241;43m.\u001b[39;49m\u001b[43mshape\u001b[49m\u001b[43m[\u001b[49m\u001b[38;5;241;43m0\u001b[39;49m\u001b[43m]\u001b[49m\u001b[43m,\u001b[49m\n\u001b[1;32m     75\u001b[0m \u001b[43m                        \u001b[49m\u001b[38;5;28;43msum\u001b[39;49m\u001b[43m(\u001b[49m\u001b[43ma\u001b[49m\u001b[38;5;241;43m.\u001b[39;49m\u001b[43mshape\u001b[49m\u001b[43m[\u001b[49m\u001b[38;5;241;43m1\u001b[39;49m\u001b[43m]\u001b[49m\u001b[43m \u001b[49m\u001b[38;5;28;43;01mfor\u001b[39;49;00m\u001b[43m \u001b[49m\u001b[43ma\u001b[49m\u001b[43m \u001b[49m\u001b[38;5;129;43;01min\u001b[39;49;00m\u001b[43m \u001b[49m\u001b[43marrays\u001b[49m\u001b[43m \u001b[49m\u001b[38;5;28;43;01mif\u001b[39;49;00m\u001b[43m \u001b[49m\u001b[43marray\u001b[49m\u001b[43m \u001b[49m\u001b[38;5;129;43;01mis\u001b[39;49;00m\u001b[43m \u001b[49m\u001b[38;5;129;43;01mnot\u001b[39;49;00m\u001b[43m \u001b[49m\u001b[43ma\u001b[49m\u001b[43m)\u001b[49m\u001b[43m,\u001b[49m\n\u001b[1;32m     76\u001b[0m \u001b[43m                    \u001b[49m\u001b[43m)\u001b[49m\n\u001b[1;32m     77\u001b[0m \u001b[43m                \u001b[49m\u001b[43m)\u001b[49m\u001b[43m,\u001b[49m\n\u001b[1;32m     78\u001b[0m \u001b[43m            \u001b[49m\u001b[43m]\u001b[49m\n\u001b[1;32m     79\u001b[0m \u001b[43m            \u001b[49m\u001b[38;5;28;43;01mfor\u001b[39;49;00m\u001b[43m \u001b[49m\u001b[43marray\u001b[49m\u001b[43m \u001b[49m\u001b[38;5;129;43;01min\u001b[39;49;00m\u001b[43m \u001b[49m\u001b[43marrays\u001b[49m\n\u001b[1;32m     80\u001b[0m \u001b[43m        \u001b[49m\u001b[43m]\u001b[49m\n\u001b[1;32m     81\u001b[0m \u001b[43m    \u001b[49m\u001b[43m)\u001b[49m\n",
      "File \u001b[0;32m<__array_function__ internals>:180\u001b[0m, in \u001b[0;36mblock\u001b[0;34m(*args, **kwargs)\u001b[0m\n",
      "File \u001b[0;32m~/.local/lib/python3.8/site-packages/numpy/core/shape_base.py:845\u001b[0m, in \u001b[0;36mblock\u001b[0;34m(arrays)\u001b[0m\n\u001b[1;32m    830\u001b[0m \u001b[38;5;66;03m# It was found through benchmarking that making an array of final size\u001b[39;00m\n\u001b[1;32m    831\u001b[0m \u001b[38;5;66;03m# around 256x256 was faster by straight concatenation on a\u001b[39;00m\n\u001b[1;32m    832\u001b[0m \u001b[38;5;66;03m# i7-7700HQ processor and dual channel ram 2400MHz.\u001b[39;00m\n\u001b[0;32m   (...)\u001b[0m\n\u001b[1;32m    842\u001b[0m \u001b[38;5;66;03m# algorithm is implemented which would likely be faster than the python\u001b[39;00m\n\u001b[1;32m    843\u001b[0m \u001b[38;5;66;03m# version.\u001b[39;00m\n\u001b[1;32m    844\u001b[0m \u001b[38;5;28;01mif\u001b[39;00m list_ndim \u001b[38;5;241m*\u001b[39m final_size \u001b[38;5;241m>\u001b[39m (\u001b[38;5;241m2\u001b[39m \u001b[38;5;241m*\u001b[39m \u001b[38;5;241m512\u001b[39m \u001b[38;5;241m*\u001b[39m \u001b[38;5;241m512\u001b[39m):\n\u001b[0;32m--> 845\u001b[0m     \u001b[38;5;28;01mreturn\u001b[39;00m \u001b[43m_block_slicing\u001b[49m\u001b[43m(\u001b[49m\u001b[43marrays\u001b[49m\u001b[43m,\u001b[49m\u001b[43m \u001b[49m\u001b[43mlist_ndim\u001b[49m\u001b[43m,\u001b[49m\u001b[43m \u001b[49m\u001b[43mresult_ndim\u001b[49m\u001b[43m)\u001b[49m\n\u001b[1;32m    846\u001b[0m \u001b[38;5;28;01melse\u001b[39;00m:\n\u001b[1;32m    847\u001b[0m     \u001b[38;5;28;01mreturn\u001b[39;00m _block_concatenate(arrays, list_ndim, result_ndim)\n",
      "File \u001b[0;32m~/.local/lib/python3.8/site-packages/numpy/core/shape_base.py:872\u001b[0m, in \u001b[0;36m_block_slicing\u001b[0;34m(arrays, list_ndim, result_ndim)\u001b[0m\n\u001b[1;32m    871\u001b[0m \u001b[38;5;28;01mdef\u001b[39;00m \u001b[38;5;21m_block_slicing\u001b[39m(arrays, list_ndim, result_ndim):\n\u001b[0;32m--> 872\u001b[0m     shape, slices, arrays \u001b[38;5;241m=\u001b[39m \u001b[43m_block_info_recursion\u001b[49m\u001b[43m(\u001b[49m\n\u001b[1;32m    873\u001b[0m \u001b[43m        \u001b[49m\u001b[43marrays\u001b[49m\u001b[43m,\u001b[49m\u001b[43m \u001b[49m\u001b[43mlist_ndim\u001b[49m\u001b[43m,\u001b[49m\u001b[43m \u001b[49m\u001b[43mresult_ndim\u001b[49m\u001b[43m)\u001b[49m\n\u001b[1;32m    874\u001b[0m     dtype \u001b[38;5;241m=\u001b[39m _nx\u001b[38;5;241m.\u001b[39mresult_type(\u001b[38;5;241m*\u001b[39m[arr\u001b[38;5;241m.\u001b[39mdtype \u001b[38;5;28;01mfor\u001b[39;00m arr \u001b[38;5;129;01min\u001b[39;00m arrays])\n\u001b[1;32m    876\u001b[0m     \u001b[38;5;66;03m# Test preferring F only in the case that all input arrays are F\u001b[39;00m\n",
      "File \u001b[0;32m~/.local/lib/python3.8/site-packages/numpy/core/shape_base.py:628\u001b[0m, in \u001b[0;36m_block_info_recursion\u001b[0;34m(arrays, max_depth, result_ndim, depth)\u001b[0m\n\u001b[1;32m    623\u001b[0m shapes, slices, arrays \u001b[38;5;241m=\u001b[39m \u001b[38;5;28mzip\u001b[39m(\n\u001b[1;32m    624\u001b[0m     \u001b[38;5;241m*\u001b[39m[_block_info_recursion(arr, max_depth, result_ndim, depth\u001b[38;5;241m+\u001b[39m\u001b[38;5;241m1\u001b[39m)\n\u001b[1;32m    625\u001b[0m       \u001b[38;5;28;01mfor\u001b[39;00m arr \u001b[38;5;129;01min\u001b[39;00m arrays])\n\u001b[1;32m    627\u001b[0m axis \u001b[38;5;241m=\u001b[39m result_ndim \u001b[38;5;241m-\u001b[39m max_depth \u001b[38;5;241m+\u001b[39m depth\n\u001b[0;32m--> 628\u001b[0m shape, slice_prefixes \u001b[38;5;241m=\u001b[39m \u001b[43m_concatenate_shapes\u001b[49m\u001b[43m(\u001b[49m\u001b[43mshapes\u001b[49m\u001b[43m,\u001b[49m\u001b[43m \u001b[49m\u001b[43maxis\u001b[49m\u001b[43m)\u001b[49m\n\u001b[1;32m    630\u001b[0m \u001b[38;5;66;03m# Prepend the slice prefix and flatten the slices\u001b[39;00m\n\u001b[1;32m    631\u001b[0m slices \u001b[38;5;241m=\u001b[39m [slice_prefix \u001b[38;5;241m+\u001b[39m the_slice\n\u001b[1;32m    632\u001b[0m           \u001b[38;5;28;01mfor\u001b[39;00m slice_prefix, inner_slices \u001b[38;5;129;01min\u001b[39;00m \u001b[38;5;28mzip\u001b[39m(slice_prefixes, slices)\n\u001b[1;32m    633\u001b[0m           \u001b[38;5;28;01mfor\u001b[39;00m the_slice \u001b[38;5;129;01min\u001b[39;00m inner_slices]\n",
      "File \u001b[0;32m~/.local/lib/python3.8/site-packages/numpy/core/shape_base.py:583\u001b[0m, in \u001b[0;36m_concatenate_shapes\u001b[0;34m(shapes, axis)\u001b[0m\n\u001b[1;32m    579\u001b[0m first_shape_post \u001b[38;5;241m=\u001b[39m first_shape[axis\u001b[38;5;241m+\u001b[39m\u001b[38;5;241m1\u001b[39m:]\n\u001b[1;32m    581\u001b[0m \u001b[38;5;28;01mif\u001b[39;00m \u001b[38;5;28many\u001b[39m(shape[:axis] \u001b[38;5;241m!=\u001b[39m first_shape_pre \u001b[38;5;129;01mor\u001b[39;00m\n\u001b[1;32m    582\u001b[0m        shape[axis\u001b[38;5;241m+\u001b[39m\u001b[38;5;241m1\u001b[39m:] \u001b[38;5;241m!=\u001b[39m first_shape_post \u001b[38;5;28;01mfor\u001b[39;00m shape \u001b[38;5;129;01min\u001b[39;00m shapes):\n\u001b[0;32m--> 583\u001b[0m     \u001b[38;5;28;01mraise\u001b[39;00m \u001b[38;5;167;01mValueError\u001b[39;00m(\n\u001b[1;32m    584\u001b[0m         \u001b[38;5;124m'\u001b[39m\u001b[38;5;124mMismatched array shapes in block along axis \u001b[39m\u001b[38;5;132;01m{}\u001b[39;00m\u001b[38;5;124m.\u001b[39m\u001b[38;5;124m'\u001b[39m\u001b[38;5;241m.\u001b[39mformat(axis))\n\u001b[1;32m    586\u001b[0m shape \u001b[38;5;241m=\u001b[39m (first_shape_pre \u001b[38;5;241m+\u001b[39m (\u001b[38;5;28msum\u001b[39m(shape_at_axis),) \u001b[38;5;241m+\u001b[39m first_shape[axis\u001b[38;5;241m+\u001b[39m\u001b[38;5;241m1\u001b[39m:])\n\u001b[1;32m    588\u001b[0m offsets_at_axis \u001b[38;5;241m=\u001b[39m _accumulate(shape_at_axis)\n",
      "\u001b[0;31mValueError\u001b[0m: Mismatched array shapes in block along axis 0."
     ]
    }
   ],
   "source": [
    "cell_graph_ = Cell_Graph(a = 0.01)\n",
    "Cell_graphs = cell_graph_.generate(cells)\n",
    "print(\"There are {} patients/cell graphs\".format(len(Cell_graphs)))\n",
    "\n",
    "\n",
    "cell_graph = Cell_graphs[0]\n",
    "print(\"The first cell graph is a tuple with 3 elements: (patient_id, graph, cell_types)\")\n",
    "print(\"\\tThe first element is the patient id: {}\".format(cell_graph[0]))\n",
    "print(\"\\tThe second element is the adjacnecy matrix, with the shape of {}\".format(cell_graph[1].shape))\n",
    "print(\"\\tThe third element is the cell types, with the shape of {}\".format(cell_graph[2].shape))\n",
    "print(\n",
    "        \"There are {} cells with {} unique cell types\".format(\n",
    "            cell_graph[1].shape[0], np.unique(cell_graph[2]).shape[0]\n",
    "        )\n",
    "    )\n"
   ]
  },
  {
   "cell_type": "code",
   "execution_count": null,
   "metadata": {},
   "outputs": [],
   "source": []
  }
 ],
 "metadata": {
  "kernelspec": {
   "display_name": "cell-gnn",
   "language": "python",
   "name": "python3"
  },
  "language_info": {
   "codemirror_mode": {
    "name": "ipython",
    "version": 3
   },
   "file_extension": ".py",
   "mimetype": "text/x-python",
   "name": "python",
   "nbconvert_exporter": "python",
   "pygments_lexer": "ipython3",
   "version": "3.8.10"
  }
 },
 "nbformat": 4,
 "nbformat_minor": 2
}
