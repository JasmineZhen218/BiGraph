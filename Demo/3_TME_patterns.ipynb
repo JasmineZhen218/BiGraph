{
 "cells": [
  {
   "cell_type": "code",
   "execution_count": 1,
   "metadata": {},
   "outputs": [],
   "source": [
    "import pandas as pd\n",
    "import random\n",
    "from definitions import get_node_color, get_node_id\n",
    "import sys\n",
    "import numpy as np\n",
    "sys.path.append(\"./..\")\n",
    "from cell_graph import Cell_Graph\n",
    "from soft_wl_subtree import Soft_WL_Subtree\n",
    "import os\n",
    "import pickle"
   ]
  },
  {
   "cell_type": "markdown",
   "metadata": {},
   "source": [
    "### Extract Discovery set from Danenberg_et_al\n",
    "* 1) data filtering: exclude patients with no clinical data and images with less than 500 cells\n",
    "* 2) Random partition: for reproducibility purpose, we use a random seed."
   ]
  },
  {
   "cell_type": "code",
   "execution_count": 2,
   "metadata": {},
   "outputs": [
    {
     "name": "stdout",
     "output_type": "stream",
     "text": [
      "Initially,\n",
      "718 patients (794 images) with cell data, 2604 patients with clinical data, \n",
      "\n",
      "Remove images without invasive tumor,\n",
      "693 patients (749 images) with cell data, 2604 patients with clinical data, \n",
      "\n",
      "Remove patients with no clinical data,\n",
      "683 patients (737 images) with cell data and clinical data, \n",
      "\n",
      "Remove images with less than 500 cells\n",
      "579 patients (621 images) with more than 500 cells and clinical data, \n",
      "\n",
      "After splitting into discovery and validation sets,\n",
      "379 patients (404 images) with more than 500 cells and clinical data in the discovery set, \n"
     ]
    }
   ],
   "source": [
    "# read single cell data and clinical data\n",
    "cells = pd.read_csv(\"Datasets/Danenberg_et_al/cells.csv\")\n",
    "clinical = pd.read_csv(\"Datasets/Danenberg_et_al/clinical.csv\")\n",
    "print(\"Initially,\")\n",
    "print(\n",
    "    \"{} patients ({} images) with cell data, {} patients with clinical data, \".format(\n",
    "        len(cells[\"metabric_id\"].unique()),\n",
    "        len(cells[\"ImageNumber\"].unique()),\n",
    "        len(clinical[\"metabric_id\"].unique()),\n",
    "    )\n",
    ")\n",
    "# remove images without invasive tumor\n",
    "print(\"\\nRemove images without invasive tumor,\")\n",
    "cells = cells.loc[cells.isTumour == 1]\n",
    "print(\n",
    "    \"{} patients ({} images) with cell data, {} patients with clinical data, \".format(\n",
    "        len(cells[\"metabric_id\"].unique()),\n",
    "        len(cells[\"ImageNumber\"].unique()),\n",
    "        len(clinical[\"metabric_id\"].unique()),\n",
    "    )\n",
    ")\n",
    "# remove patients with no clinical data\n",
    "print(\"\\nRemove patients with no clinical data,\")\n",
    "cells = cells.loc[cells[\"metabric_id\"].isin(clinical[\"metabric_id\"])]\n",
    "print(\n",
    "    \"{} patients ({} images) with cell data and clinical data, \".format(\n",
    "        len(cells[\"metabric_id\"].unique()),\n",
    "        len(cells[\"ImageNumber\"].unique()),\n",
    "    )\n",
    ")\n",
    "# remove images with less than 500 cells\n",
    "print(\"\\nRemove images with less than 500 cells\")\n",
    "cells_per_image = cells.groupby(\"ImageNumber\").size()\n",
    "cells = cells.loc[\n",
    "    cells[\"ImageNumber\"].isin(cells_per_image[cells_per_image > 500].index)\n",
    "]\n",
    "clinical = clinical.loc[clinical[\"metabric_id\"].isin(cells[\"metabric_id\"].unique())]\n",
    "print(\n",
    "    \"{} patients ({} images) with more than 500 cells and clinical data, \".format(\n",
    "        len(cells[\"metabric_id\"].unique()),\n",
    "        len(cells[\"ImageNumber\"].unique()),\n",
    "    )\n",
    ")\n",
    "\n",
    "random.seed(0)\n",
    "Subset_id = [1] * (len(clinical) - 200) + [2] * 200\n",
    "random.shuffle(Subset_id)\n",
    "clinical['Subset_id'] = Subset_id\n",
    "cells_discovery = cells.loc[cells[\"metabric_id\"].isin(clinical.loc[clinical['Subset_id'] == 1, \"metabric_id\"])]\n",
    "cells_validation = cells.loc[cells[\"metabric_id\"].isin(clinical.loc[clinical['Subset_id'] == 2, \"metabric_id\"])]\n",
    "print(\"\\nAfter splitting into discovery and validation sets,\")\n",
    "print(\n",
    "    \"{} patients ({} images) with more than 500 cells and clinical data in the discovery set, \".format(\n",
    "        len(cells_discovery[\"metabric_id\"].unique()),\n",
    "        len(cells_discovery[\"ImageNumber\"].unique()),\n",
    "    )\n",
    ")"
   ]
  },
  {
   "cell_type": "markdown",
   "metadata": {},
   "source": [
    "### Standardize data, and Generate cellular graphs"
   ]
  },
  {
   "cell_type": "code",
   "execution_count": 3,
   "metadata": {},
   "outputs": [],
   "source": [
    "# Assign cell type Id based on meta description column\n",
    "cells['cellTypeID'] = cells['meta_description'].map(get_node_id('Danenberg', 'CellType'))\n",
    "# standardize column names\n",
    "patientID_colname = \"metabric_id\"\n",
    "imageID_colname = \"ImageNumber\"\n",
    "celltypeID_colname = \"cellTypeID\"\n",
    "coorX_colname = \"Location_Center_X\"\n",
    "coorY_colname = \"Location_Center_Y\"\n",
    "cells = cells.rename(\n",
    "            columns={\n",
    "                patientID_colname: \"patientID\",\n",
    "                imageID_colname: \"imageID\",\n",
    "                celltypeID_colname: \"celltypeID\",\n",
    "                coorX_colname: \"coorX\",\n",
    "                coorY_colname: \"coorY\",\n",
    "            }\n",
    "        )"
   ]
  },
  {
   "cell_type": "code",
   "execution_count": 4,
   "metadata": {},
   "outputs": [
    {
     "name": "stdout",
     "output_type": "stream",
     "text": [
      "Warning: patient MB-0190 has 2 images.\n",
      "Warning: patient MB-0442 has 2 images.\n",
      "Warning: patient MB-0321 has 2 images.\n",
      "Warning: patient MB-0317 has 2 images.\n",
      "Warning: patient MB-0353 has 2 images.\n",
      "Warning: patient MB-0354 has 2 images.\n",
      "Warning: patient MB-0573 has 2 images.\n",
      "Warning: patient MB-0361 has 2 images.\n",
      "Warning: patient MB-0081 has 2 images.\n",
      "Warning: patient MB-0322 has 2 images.\n",
      "Warning: patient MB-0325 has 2 images.\n",
      "Warning: patient MB-0545 has 2 images.\n",
      "Warning: patient MB-0269 has 2 images.\n",
      "Warning: patient MB-0551 has 2 images.\n",
      "Warning: patient MB-0260 has 2 images.\n",
      "Warning: patient MB-0359 has 2 images.\n",
      "Warning: patient MB-0609 has 2 images.\n",
      "Warning: patient MB-0126 has 2 images.\n",
      "Warning: patient MB-0138 has 2 images.\n",
      "Warning: patient MB-0135 has 2 images.\n",
      "Warning: patient MB-0158 has 2 images.\n",
      "Warning: patient MB-0167 has 2 images.\n",
      "Warning: patient MB-0151 has 2 images.\n",
      "Warning: patient MB-0175 has 2 images.\n",
      "Warning: patient MB-0177 has 2 images.\n",
      "Warning: patient MB-0184 has 2 images.\n",
      "Warning: patient MB-0188 has 2 images.\n",
      "Warning: patient MB-0206 has 2 images.\n",
      "Warning: patient MB-0195 has 2 images.\n",
      "Warning: patient MB-0200 has 2 images.\n",
      "Warning: patient MB-0203 has 2 images.\n",
      "Warning: patient MB-0384 has 2 images.\n",
      "Warning: patient MB-0373 has 2 images.\n",
      "Warning: patient MB-0399 has 2 images.\n",
      "Warning: patient MB-0538 has 2 images.\n",
      "Warning: patient MB-0438 has 2 images.\n",
      "Warning: patient MB-0412 has 2 images.\n",
      "Warning: patient MB-0431 has 2 images.\n",
      "Warning: patient MB-0490 has 2 images.\n",
      "Warning: patient MB-0583 has 2 images.\n",
      "Warning: patient MB-0145 has 2 images.\n",
      "Warning: patient MB-0336 has 2 images.\n",
      "There are 579 patients/cell graphs\n",
      "The first cell graph is a tuple with 3 elements: (patient_id, graph, cell_types)\n",
      "\tThe first element is the patient id: MB-0282\n",
      "\tThe second element is the adjacnecy matrix, with the shape of (1624, 1624)\n",
      "\tThe third element is the cell types, with the shape of (1624, 32)\n",
      "There are 1624 cells with 2 unique cell types\n"
     ]
    }
   ],
   "source": [
    "cell_graph_ = Cell_Graph(a = 0.01)\n",
    "Cell_graphs = cell_graph_.generate(cells)\n",
    "print(\"There are {} patients/cell graphs\".format(len(Cell_graphs)))\n",
    "\n",
    "\n",
    "cell_graph = Cell_graphs[0]\n",
    "print(\"The first cell graph is a tuple with 3 elements: (patient_id, graph, cell_types)\")\n",
    "print(\"\\tThe first element is the patient id: {}\".format(cell_graph[0]))\n",
    "print(\"\\tThe second element is the adjacnecy matrix, with the shape of {}\".format(cell_graph[1].shape))\n",
    "print(\"\\tThe third element is the cell types, with the shape of {}\".format(cell_graph[2].shape))\n",
    "print(\n",
    "        \"There are {} cells with {} unique cell types\".format(\n",
    "            cell_graph[1].shape[0], np.unique(np.where(cell_graph[2] == 1)[1]).shape[0]\n",
    "        )\n",
    "    )\n"
   ]
  },
  {
   "cell_type": "markdown",
   "metadata": {},
   "source": [
    "### Identify TME patterns with Soft WL subtree kernel"
   ]
  },
  {
   "cell_type": "code",
   "execution_count": 5,
   "metadata": {},
   "outputs": [
    {
     "name": "stdout",
     "output_type": "stream",
     "text": [
      "/cis/home/zwang/.bashrc: line 40: /cis/home/zwang/.local/bin/virtualenvwrapper.sh: No such file or directory\n",
      "Initialize SoftWL: n_iter=2, n_jobs=1, k=100, normalize=True\n",
      "Discovering TME patterns from 579 graphs, median number of nodes is 1475.0, node feature matrix dimension is (1624, 32)\n",
      "\t 1) Graph Convolution\n",
      "\t 2) Clustering 1016163 Subtrees\n",
      "Finding 100 nearest neighbors using minkowski metric and 'auto' algorithm\n"
     ]
    },
    {
     "ename": "",
     "evalue": "",
     "output_type": "error",
     "traceback": [
      "\u001b[1;31mThe Kernel crashed while executing code in the current cell or a previous cell. \n",
      "\u001b[1;31mPlease review the code in the cell(s) to identify a possible cause of the failure. \n",
      "\u001b[1;31mClick <a href='https://aka.ms/vscodeJupyterKernelCrash'>here</a> for more info. \n",
      "\u001b[1;31mView Jupyter <a href='command:jupyter.viewOutput'>log</a> for further details."
     ]
    }
   ],
   "source": [
    "if os.path.exists(\"fitted_soft_wl_subtree.pkl.npy\"):\n",
    "    print(\"There is a pre-fitted soft wl subtree kernel. We will load it directly.\")\n",
    "    with open(\"fitted_soft_wl_subtree.pkl\", \"rb\") as f:\n",
    "        soft_wl_subtree_ = pickle.load(f)\n",
    "else:\n",
    "    # Excuting clustering algorithm on a extremely large matrix (e.g., 1016163 * 32) is prohibitive\n",
    "    # Go run python 3_TME_patterns.py instead"
   ]
  },
  {
   "cell_type": "markdown",
   "metadata": {},
   "source": [
    "### Visualize the Signature map"
   ]
  },
  {
   "cell_type": "code",
   "execution_count": null,
   "metadata": {},
   "outputs": [],
   "source": [
    "if os.path.exists(\"fitted_soft_wl_subtree.pkl.npy\"):\n",
    "    print(\"There is a pre-fitted soft wl subtree kernel. We will load it directly.\")\n",
    "    with open(\"fitted_soft_wl_subtree.pkl\", \"rb\") as f:\n",
    "        soft_wl_subtree_ = pickle.load(f)\n",
    "Signatures = soft_wl_subtree_.Signatures\n",
    "Histograms = soft_wl_subtree_.Histograms\n",
    "Proportions = Histograms/np.sum(Histograms, axis=1, keepdims=True)\n",
    "# Proportion of each pattern presented in each patient's cellular graphs\n",
    "DF_proportion = pd.DataFrame({})\n",
    "index = 0\n",
    "for i in range(Proportions.shape[0]):\n",
    "    for j in range(Proportions.shape[1]):\n",
    "        DF_proportion.loc[index, 'pattern_id'] = str(j)\n",
    "        DF_proportion.loc[index, 'proportion'] = Proportions[i, j]\n",
    "        index += 1"
   ]
  },
  {
   "cell_type": "markdown",
   "metadata": {},
   "source": [
    "#### 1) Default order (sorted by pattern cluster size, descendent)"
   ]
  },
  {
   "cell_type": "code",
   "execution_count": null,
   "metadata": {},
   "outputs": [],
   "source": [
    "import matplotlib.pyplot as plt\n",
    "import seaborn as sns\n",
    "from definitions import Cell_types_displayed_Danenberg\n",
    "import pandas as pd\n",
    "f, ax = plt.subplots(\n",
    "    1,\n",
    "    3,\n",
    "    figsize=(12, 10),\n",
    "    tight_layout=True,\n",
    "    gridspec_kw={\"width_ratios\": [1, 10, 0.3]},\n",
    ")\n",
    "sns.heatmap(\n",
    "    Signatures,\n",
    "    ax=ax[1],\n",
    "    cmap=\"rocket_r\",\n",
    "    linewidth=0.005,\n",
    "    cbar=True,\n",
    "    cbar_ax=ax[2],\n",
    "    edgecolor=\"black\",\n",
    "    vmax=np.percentile(Signatures, 99),\n",
    "    vmin=np.percentile(Signatures, 5),\n",
    ")\n",
    "ax[1].get_yaxis().set_visible(False)\n",
    "ax[1].set_title(\"Signature map\", fontsize=14)\n",
    "ax[1].set_xticklabels(\n",
    "    Cell_types_displayed_Danenberg, rotation=90, fontsize=12, fontweight=\"bold\"\n",
    ")\n",
    "ax[1].set_xlabel(\"Cell Phenotypes\", fontsize=14)\n",
    "xtickcolors = [\"cornflowerblue\"] * 16 + [\"darkorange\"] * 11 + [\"seagreen\"] * 5\n",
    "for xtick, color in zip(ax[1].get_xticklabels(), xtickcolors):\n",
    "    xtick.set_color(color)\n",
    "ax[2].get_xaxis().set_visible(False)\n",
    "\n",
    "sns.boxplot(\n",
    "    y=\"pattern_id\",\n",
    "    x=\"proportion\",\n",
    "    data=DF_proportion,\n",
    "    showfliers=False,\n",
    "    ax=ax[0],\n",
    "    color=\"white\",\n",
    "    order=[str(i) for i in range(Signatures.shape[0])],\n",
    "    fliersize=0.5,\n",
    ")\n",
    "ax[0].set_xlabel(\"Proportion\", fontsize=12)\n",
    "ax[0].set_title(\"Abundance\", fontsize=14)\n",
    "ax[0].set_yticklabels([i + 1 for i in range(Signatures.shape[0])], fontsize=9)\n",
    "ax[0].set_ylabel(\"Pattern ID\", fontsize=14)\n",
    "ax[0].invert_xaxis()\n",
    "plt.show()"
   ]
  },
  {
   "cell_type": "markdown",
   "metadata": {},
   "source": [
    "#### 2) Reordered: gathered tme patterns by tumor niches, immune niches, stromal niches, and interfacing niches (Only for visualization purpose)"
   ]
  },
  {
   "cell_type": "code",
   "execution_count": null,
   "metadata": {},
   "outputs": [],
   "source": [
    "# Define tumor niches, immune niches, stromal niches, and interfacing niches\n",
    "threshold = 0.5  # does not impact the downstream analysis, only imapct the presentation of the signature map\n",
    "tumor_niche = np.where(\n",
    "    (np.sum(Signatures[:16, :] > threshold, axis=0) > 0)\n",
    "    & (np.sum(Signatures[16:, :] > threshold, axis=0) == 0)\n",
    ")[0]\n",
    "immune_niche = np.where(\n",
    "    (np.sum(Signatures[:16, :] > threshold, axis=0) == 0)\n",
    "    & (np.sum(Signatures[16:27, :] > threshold, axis=0) > 0)\n",
    "    & (np.sum(Signatures[27:, :] > threshold, axis=0) == 0)\n",
    ")[0]\n",
    "stromal_niche = np.where(\n",
    "    (np.sum(Signatures[:16, :] > threshold, axis=0) == 0)\n",
    "    & (np.sum(Signatures[16:27, :] > threshold, axis=0) == 0)\n",
    "    & (np.sum(Signatures[27:, :] > threshold, axis=0) > 0)\n",
    ")[0]\n",
    "interacting_niche = [\n",
    "    i\n",
    "    for i in range(Signatures.shape[1])\n",
    "    if i not in np.concatenate([tumor_niche, immune_niche, stromal_niche])\n",
    "]\n",
    "print(tumor_niche, immune_niche, stromal_niche, interacting_niche)\n",
    "print(len(tumor_niche), len(immune_niche), len(stromal_niche), len(interacting_niche))"
   ]
  },
  {
   "cell_type": "markdown",
   "metadata": {},
   "source": [
    "#### Fig. 4 Abundance and Signature map of TME patterns."
   ]
  },
  {
   "cell_type": "code",
   "execution_count": null,
   "metadata": {},
   "outputs": [],
   "source": [
    "f, ax = plt.subplots(\n",
    "    1,\n",
    "    3,\n",
    "    figsize=(12, 10),\n",
    "    tight_layout=True,\n",
    "    gridspec_kw={\"width_ratios\": [1, 10, 0.3]},\n",
    ")\n",
    "Signature_reorder = Signatures[\n",
    "    :, np.concatenate([tumor_niche, immune_niche, stromal_niche, interacting_niche])\n",
    "]\n",
    "Indices = np.concatenate([tumor_niche, immune_niche, stromal_niche, interacting_niche])\n",
    "sns.heatmap(\n",
    "    Signatures[:, Indices],\n",
    "    ax=ax[1],\n",
    "    cmap=\"rocket_r\",\n",
    "    linewidth=0.005,\n",
    "    cbar=True,\n",
    "    cbar_ax=ax[2],\n",
    "    edgecolor=\"black\",\n",
    "    vmax=np.percentile(Signatures, 99),\n",
    "    vmin=np.percentile(Signatures, 5),\n",
    ")\n",
    "\n",
    "ax[1].get_yaxis().set_visible(False)\n",
    "ax[1].set_title(\"Signature map\", fontsize=14)\n",
    "ax[1].set_xticklabels(\n",
    "    Cell_types_displayed_Danenberg, rotation=90, fontsize=12, fontweight=\"bold\"\n",
    ")\n",
    "ax[1].set_xlabel(\"Cell Phenotypes\", fontsize=14)\n",
    "xtickcolors = [\"cornflowerblue\"] * 16 + [\"darkorange\"] * 11 + [\"seagreen\"] * 5\n",
    "for xtick, color in zip(ax[1].get_xticklabels(), xtickcolors):\n",
    "    xtick.set_color(color)\n",
    "ax[2].get_xaxis().set_visible(False)\n",
    "\n",
    "sns.boxplot(\n",
    "    y=\"pattern_id\",\n",
    "    x=\"proportion\",\n",
    "    data=DF_proportion,\n",
    "    showfliers=False,\n",
    "    ax=ax[0],\n",
    "    color=\"white\",\n",
    "    order=[str(i) for i in Indices],\n",
    "    fliersize=0.5,\n",
    ")\n",
    "ax[0].set_xlabel(\"Proportion\", fontsize=12)\n",
    "ax[0].set_title(\"Abundance\", fontsize=14)\n",
    "ax[0].set_yticklabels([i + 1 for i in range(len(Indices))], fontsize=9)\n",
    "ax[0].set_ylabel(\"Pattern ID\", fontsize=14)\n",
    "ax[0].invert_xaxis()\n",
    "plt.show()"
   ]
  }
 ],
 "metadata": {
  "kernelspec": {
   "display_name": "cell-gnn",
   "language": "python",
   "name": "python3"
  },
  "language_info": {
   "codemirror_mode": {
    "name": "ipython",
    "version": 3
   },
   "file_extension": ".py",
   "mimetype": "text/x-python",
   "name": "python",
   "nbconvert_exporter": "python",
   "pygments_lexer": "ipython3",
   "version": "3.8.10"
  }
 },
 "nbformat": 4,
 "nbformat_minor": 2
}
