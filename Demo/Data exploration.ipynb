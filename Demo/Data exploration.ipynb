{
 "cells": [
  {
   "cell_type": "markdown",
   "metadata": {},
   "source": [
    "# Data Exploration"
   ]
  },
  {
   "cell_type": "code",
   "execution_count": 20,
   "metadata": {},
   "outputs": [],
   "source": [
    "import pandas as pd\n",
    "import random"
   ]
  },
  {
   "cell_type": "markdown",
   "metadata": {},
   "source": [
    "## Danenberg et al"
   ]
  },
  {
   "cell_type": "code",
   "execution_count": 3,
   "metadata": {},
   "outputs": [
    {
     "data": {
      "text/html": [
       "<div>\n",
       "<style scoped>\n",
       "    .dataframe tbody tr th:only-of-type {\n",
       "        vertical-align: middle;\n",
       "    }\n",
       "\n",
       "    .dataframe tbody tr th {\n",
       "        vertical-align: top;\n",
       "    }\n",
       "\n",
       "    .dataframe thead th {\n",
       "        text-align: right;\n",
       "    }\n",
       "</style>\n",
       "<table border=\"1\" class=\"dataframe\">\n",
       "  <thead>\n",
       "    <tr style=\"text-align: right;\">\n",
       "      <th></th>\n",
       "      <th>ImageNumber</th>\n",
       "      <th>ObjectNumber</th>\n",
       "      <th>metabric_id</th>\n",
       "      <th>meta_id</th>\n",
       "      <th>meta_description</th>\n",
       "      <th>print_order</th>\n",
       "      <th>colours</th>\n",
       "      <th>is_epithelial</th>\n",
       "      <th>isTumour</th>\n",
       "      <th>is_normal</th>\n",
       "      <th>...</th>\n",
       "      <th>CD31-vWF</th>\n",
       "      <th>CXCL12</th>\n",
       "      <th>HLA-ABC</th>\n",
       "      <th>panCK</th>\n",
       "      <th>c-Caspase3</th>\n",
       "      <th>DNA1</th>\n",
       "      <th>DNA2</th>\n",
       "      <th>Location_Center_X</th>\n",
       "      <th>Location_Center_Y</th>\n",
       "      <th>AreaShape_Area</th>\n",
       "    </tr>\n",
       "  </thead>\n",
       "  <tbody>\n",
       "    <tr>\n",
       "      <th>0</th>\n",
       "      <td>1</td>\n",
       "      <td>1</td>\n",
       "      <td>MB-0282</td>\n",
       "      <td>Ep 6</td>\n",
       "      <td>CK^{med}ER^{lo}</td>\n",
       "      <td>6</td>\n",
       "      <td>#40647A</td>\n",
       "      <td>True</td>\n",
       "      <td>True</td>\n",
       "      <td>0</td>\n",
       "      <td>...</td>\n",
       "      <td>0.495330</td>\n",
       "      <td>0.401104</td>\n",
       "      <td>9.282180</td>\n",
       "      <td>18.180412</td>\n",
       "      <td>0.163026</td>\n",
       "      <td>29.445302</td>\n",
       "      <td>54.989698</td>\n",
       "      <td>121.418605</td>\n",
       "      <td>4.023256</td>\n",
       "      <td>43</td>\n",
       "    </tr>\n",
       "    <tr>\n",
       "      <th>1</th>\n",
       "      <td>1</td>\n",
       "      <td>2</td>\n",
       "      <td>MB-0282</td>\n",
       "      <td>Ep 5</td>\n",
       "      <td>ER^{hi}CXCL12^{+}</td>\n",
       "      <td>5</td>\n",
       "      <td>#99CCCC</td>\n",
       "      <td>True</td>\n",
       "      <td>True</td>\n",
       "      <td>0</td>\n",
       "      <td>...</td>\n",
       "      <td>0.552035</td>\n",
       "      <td>2.567602</td>\n",
       "      <td>1.417755</td>\n",
       "      <td>48.593726</td>\n",
       "      <td>0.310149</td>\n",
       "      <td>23.160734</td>\n",
       "      <td>42.596685</td>\n",
       "      <td>150.468531</td>\n",
       "      <td>6.083916</td>\n",
       "      <td>143</td>\n",
       "    </tr>\n",
       "    <tr>\n",
       "      <th>2</th>\n",
       "      <td>1</td>\n",
       "      <td>4</td>\n",
       "      <td>MB-0282</td>\n",
       "      <td>SI 3</td>\n",
       "      <td>CD4^{+} T cells &amp; APCs</td>\n",
       "      <td>3</td>\n",
       "      <td>#F8B195</td>\n",
       "      <td>False</td>\n",
       "      <td>True</td>\n",
       "      <td>0</td>\n",
       "      <td>...</td>\n",
       "      <td>0.493669</td>\n",
       "      <td>0.117742</td>\n",
       "      <td>3.791699</td>\n",
       "      <td>3.404438</td>\n",
       "      <td>0.242591</td>\n",
       "      <td>16.884008</td>\n",
       "      <td>31.325295</td>\n",
       "      <td>221.930233</td>\n",
       "      <td>5.139535</td>\n",
       "      <td>129</td>\n",
       "    </tr>\n",
       "    <tr>\n",
       "      <th>3</th>\n",
       "      <td>1</td>\n",
       "      <td>5</td>\n",
       "      <td>MB-0282</td>\n",
       "      <td>Ep 6</td>\n",
       "      <td>CK^{med}ER^{lo}</td>\n",
       "      <td>6</td>\n",
       "      <td>#40647A</td>\n",
       "      <td>True</td>\n",
       "      <td>True</td>\n",
       "      <td>0</td>\n",
       "      <td>...</td>\n",
       "      <td>0.373286</td>\n",
       "      <td>1.048929</td>\n",
       "      <td>2.364418</td>\n",
       "      <td>23.289196</td>\n",
       "      <td>0.297700</td>\n",
       "      <td>8.475436</td>\n",
       "      <td>15.654673</td>\n",
       "      <td>354.136364</td>\n",
       "      <td>5.890909</td>\n",
       "      <td>110</td>\n",
       "    </tr>\n",
       "    <tr>\n",
       "      <th>4</th>\n",
       "      <td>1</td>\n",
       "      <td>7</td>\n",
       "      <td>MB-0282</td>\n",
       "      <td>SI 2</td>\n",
       "      <td>CD4^{+} T cells</td>\n",
       "      <td>2</td>\n",
       "      <td>#FF50A2</td>\n",
       "      <td>False</td>\n",
       "      <td>True</td>\n",
       "      <td>0</td>\n",
       "      <td>...</td>\n",
       "      <td>0.287512</td>\n",
       "      <td>0.058795</td>\n",
       "      <td>4.690886</td>\n",
       "      <td>0.664581</td>\n",
       "      <td>0.078051</td>\n",
       "      <td>14.009167</td>\n",
       "      <td>28.587826</td>\n",
       "      <td>469.174603</td>\n",
       "      <td>7.158730</td>\n",
       "      <td>126</td>\n",
       "    </tr>\n",
       "  </tbody>\n",
       "</table>\n",
       "<p>5 rows × 57 columns</p>\n",
       "</div>"
      ],
      "text/plain": [
       "   ImageNumber  ObjectNumber metabric_id meta_id        meta_description  \\\n",
       "0            1             1     MB-0282    Ep 6         CK^{med}ER^{lo}   \n",
       "1            1             2     MB-0282    Ep 5       ER^{hi}CXCL12^{+}   \n",
       "2            1             4     MB-0282    SI 3  CD4^{+} T cells & APCs   \n",
       "3            1             5     MB-0282    Ep 6         CK^{med}ER^{lo}   \n",
       "4            1             7     MB-0282    SI 2         CD4^{+} T cells   \n",
       "\n",
       "   print_order  colours  is_epithelial  isTumour  is_normal  ...  CD31-vWF  \\\n",
       "0            6  #40647A           True      True          0  ...  0.495330   \n",
       "1            5  #99CCCC           True      True          0  ...  0.552035   \n",
       "2            3  #F8B195          False      True          0  ...  0.493669   \n",
       "3            6  #40647A           True      True          0  ...  0.373286   \n",
       "4            2  #FF50A2          False      True          0  ...  0.287512   \n",
       "\n",
       "     CXCL12   HLA-ABC      panCK  c-Caspase3       DNA1       DNA2  \\\n",
       "0  0.401104  9.282180  18.180412    0.163026  29.445302  54.989698   \n",
       "1  2.567602  1.417755  48.593726    0.310149  23.160734  42.596685   \n",
       "2  0.117742  3.791699   3.404438    0.242591  16.884008  31.325295   \n",
       "3  1.048929  2.364418  23.289196    0.297700   8.475436  15.654673   \n",
       "4  0.058795  4.690886   0.664581    0.078051  14.009167  28.587826   \n",
       "\n",
       "   Location_Center_X  Location_Center_Y  AreaShape_Area  \n",
       "0         121.418605           4.023256              43  \n",
       "1         150.468531           6.083916             143  \n",
       "2         221.930233           5.139535             129  \n",
       "3         354.136364           5.890909             110  \n",
       "4         469.174603           7.158730             126  \n",
       "\n",
       "[5 rows x 57 columns]"
      ]
     },
     "execution_count": 3,
     "metadata": {},
     "output_type": "execute_result"
    }
   ],
   "source": [
    "cells = pd.read_csv('Datasets/Danenberg_et_al/cells.csv') \n",
    "cells.head()"
   ]
  },
  {
   "cell_type": "code",
   "execution_count": 23,
   "metadata": {},
   "outputs": [
    {
     "name": "stdout",
     "output_type": "stream",
     "text": [
      "682\n"
     ]
    },
    {
     "data": {
      "text/html": [
       "<div>\n",
       "<style scoped>\n",
       "    .dataframe tbody tr th:only-of-type {\n",
       "        vertical-align: middle;\n",
       "    }\n",
       "\n",
       "    .dataframe tbody tr th {\n",
       "        vertical-align: top;\n",
       "    }\n",
       "\n",
       "    .dataframe thead th {\n",
       "        text-align: right;\n",
       "    }\n",
       "</style>\n",
       "<table border=\"1\" class=\"dataframe\">\n",
       "  <thead>\n",
       "    <tr style=\"text-align: right;\">\n",
       "      <th></th>\n",
       "      <th>Unnamed: 0</th>\n",
       "      <th>metabric_id</th>\n",
       "      <th>ERStatus</th>\n",
       "      <th>LymphNodesOrdinal</th>\n",
       "      <th>sizeOrdinal</th>\n",
       "      <th>Grade</th>\n",
       "      <th>ERBB2_pos</th>\n",
       "      <th>yearsToStatus</th>\n",
       "      <th>DeathBreast</th>\n",
       "      <th>isValidation</th>\n",
       "      <th>PAM50</th>\n",
       "      <th>IntClust</th>\n",
       "      <th>isDiscovery</th>\n",
       "    </tr>\n",
       "  </thead>\n",
       "  <tbody>\n",
       "    <tr>\n",
       "      <th>0</th>\n",
       "      <td>0</td>\n",
       "      <td>MB-0000</td>\n",
       "      <td>pos</td>\n",
       "      <td>7+</td>\n",
       "      <td>20-50mm</td>\n",
       "      <td>3.0</td>\n",
       "      <td>False</td>\n",
       "      <td>11.540041</td>\n",
       "      <td>0</td>\n",
       "      <td>False</td>\n",
       "      <td>Normal-like</td>\n",
       "      <td>IntClust 4+</td>\n",
       "      <td>True</td>\n",
       "    </tr>\n",
       "    <tr>\n",
       "      <th>1</th>\n",
       "      <td>1</td>\n",
       "      <td>MB-0002</td>\n",
       "      <td>pos</td>\n",
       "      <td>0</td>\n",
       "      <td>5-10mm</td>\n",
       "      <td>3.0</td>\n",
       "      <td>False</td>\n",
       "      <td>6.951403</td>\n",
       "      <td>0</td>\n",
       "      <td>False</td>\n",
       "      <td>Luminal A</td>\n",
       "      <td>IntClust 4+</td>\n",
       "      <td>True</td>\n",
       "    </tr>\n",
       "    <tr>\n",
       "      <th>2</th>\n",
       "      <td>2</td>\n",
       "      <td>MB-0005</td>\n",
       "      <td>pos</td>\n",
       "      <td>1</td>\n",
       "      <td>10-20mm</td>\n",
       "      <td>2.0</td>\n",
       "      <td>False</td>\n",
       "      <td>13.445585</td>\n",
       "      <td>1</td>\n",
       "      <td>False</td>\n",
       "      <td>Luminal B</td>\n",
       "      <td>IntClust 3</td>\n",
       "      <td>True</td>\n",
       "    </tr>\n",
       "    <tr>\n",
       "      <th>3</th>\n",
       "      <td>3</td>\n",
       "      <td>MB-0006</td>\n",
       "      <td>pos</td>\n",
       "      <td>2-3</td>\n",
       "      <td>20-50mm</td>\n",
       "      <td>2.0</td>\n",
       "      <td>False</td>\n",
       "      <td>13.546886</td>\n",
       "      <td>0</td>\n",
       "      <td>False</td>\n",
       "      <td>Luminal B</td>\n",
       "      <td>IntClust 9</td>\n",
       "      <td>True</td>\n",
       "    </tr>\n",
       "    <tr>\n",
       "      <th>4</th>\n",
       "      <td>4</td>\n",
       "      <td>MB-0008</td>\n",
       "      <td>pos</td>\n",
       "      <td>7+</td>\n",
       "      <td>20-50mm</td>\n",
       "      <td>3.0</td>\n",
       "      <td>False</td>\n",
       "      <td>3.397673</td>\n",
       "      <td>1</td>\n",
       "      <td>False</td>\n",
       "      <td>Luminal B</td>\n",
       "      <td>IntClust 9</td>\n",
       "      <td>True</td>\n",
       "    </tr>\n",
       "  </tbody>\n",
       "</table>\n",
       "</div>"
      ],
      "text/plain": [
       "   Unnamed: 0 metabric_id ERStatus LymphNodesOrdinal sizeOrdinal  Grade  \\\n",
       "0           0     MB-0000      pos                7+     20-50mm    3.0   \n",
       "1           1     MB-0002      pos                 0      5-10mm    3.0   \n",
       "2           2     MB-0005      pos                 1     10-20mm    2.0   \n",
       "3           3     MB-0006      pos               2-3     20-50mm    2.0   \n",
       "4           4     MB-0008      pos                7+     20-50mm    3.0   \n",
       "\n",
       "  ERBB2_pos  yearsToStatus  DeathBreast  isValidation        PAM50  \\\n",
       "0     False      11.540041            0         False  Normal-like   \n",
       "1     False       6.951403            0         False    Luminal A   \n",
       "2     False      13.445585            1         False    Luminal B   \n",
       "3     False      13.546886            0         False    Luminal B   \n",
       "4     False       3.397673            1         False    Luminal B   \n",
       "\n",
       "      IntClust  isDiscovery  \n",
       "0  IntClust 4+         True  \n",
       "1  IntClust 4+         True  \n",
       "2   IntClust 3         True  \n",
       "3   IntClust 9         True  \n",
       "4   IntClust 9         True  "
      ]
     },
     "execution_count": 23,
     "metadata": {},
     "output_type": "execute_result"
    }
   ],
   "source": [
    "clinical = pd.read_csv('Datasets/Danenberg_et_al/clinical.csv')\n",
    "print(len(clinical))\n",
    "clinical.head()\n"
   ]
  },
  {
   "cell_type": "code",
   "execution_count": 4,
   "metadata": {},
   "outputs": [
    {
     "name": "stdout",
     "output_type": "stream",
     "text": [
      "718 patients, 794 images, and 1123466 cells\n"
     ]
    }
   ],
   "source": [
    "print(\"{} patients, {} images, and {} cells\".format(\n",
    "    len(cells['metabric_id'].unique()), len(cells['ImageNumber'].unique()), len(cells)\n",
    ")\n",
    ")"
   ]
  },
  {
   "cell_type": "markdown",
   "metadata": {},
   "source": [
    "### Data inclusion"
   ]
  },
  {
   "cell_type": "markdown",
   "metadata": {},
   "source": [
    "1) Exclude samples with only normal tissues and in-situ carcinoma"
   ]
  },
  {
   "cell_type": "code",
   "execution_count": 5,
   "metadata": {},
   "outputs": [
    {
     "name": "stdout",
     "output_type": "stream",
     "text": [
      "693 patients, 749 images, and 1066966 cells\n"
     ]
    }
   ],
   "source": [
    "cells= cells.loc[cells.isTumour == 1]\n",
    "print(\"{} patients, {} images, and {} cells\".format(\n",
    "    len(cells['metabric_id'].unique()), len(cells['ImageNumber'].unique()), len(cells)\n",
    ")\n",
    ")"
   ]
  },
  {
   "cell_type": "markdown",
   "metadata": {},
   "source": [
    "2) Exclude patients with clinical information missing"
   ]
  },
  {
   "cell_type": "code",
   "execution_count": 6,
   "metadata": {},
   "outputs": [
    {
     "name": "stdout",
     "output_type": "stream",
     "text": [
      "682 patients, 736 images, and 1045835 cells\n"
     ]
    }
   ],
   "source": [
    "\n",
    "cells = pd.merge(cells, clinical, on = 'metabric_id')\n",
    "print(\"{} patients, {} images, and {} cells\".format(\n",
    "    len(cells['metabric_id'].unique()), len(cells['ImageNumber'].unique()), len(cells)\n",
    ")\n",
    ")"
   ]
  },
  {
   "cell_type": "markdown",
   "metadata": {},
   "source": [
    "3) Exclude images with less than 500 cells"
   ]
  },
  {
   "cell_type": "code",
   "execution_count": 13,
   "metadata": {},
   "outputs": [
    {
     "name": "stdout",
     "output_type": "stream",
     "text": [
      "ImageNumber\n",
      "1     1624\n",
      "2     1057\n",
      "3     1648\n",
      "4     1348\n",
      "5     2018\n",
      "6      944\n",
      "7     1377\n",
      "8     1535\n",
      "9     1209\n",
      "10    1373\n",
      "dtype: int64\n",
      "579 patients, 621 images, and 1016163 cells\n",
      "579\n"
     ]
    }
   ],
   "source": [
    "cells_per_image = cells.groupby('ImageNumber').size()\n",
    "print(cells_per_image[:10])\n",
    "cells = cells.loc[cells['ImageNumber'].isin(cells_per_image[cells_per_image > 500].index)]\n",
    "clinical = clinical.loc[clinical['metabric_id'].isin(cells['metabric_id'].unique())]\n",
    "print(\"{} patients, {} images, and {} cells\".format(\n",
    "    len(cells['metabric_id'].unique()), len(cells['ImageNumber'].unique()), len(cells)\n",
    ")\n",
    ")\n"
   ]
  },
  {
   "cell_type": "markdown",
   "metadata": {},
   "source": [
    "## Discovery and inner-validation sets partition"
   ]
  },
  {
   "cell_type": "code",
   "execution_count": 21,
   "metadata": {},
   "outputs": [
    {
     "name": "stdout",
     "output_type": "stream",
     "text": [
      "[2, 2, 1, 1, 1, 1, 1, 1, 1, 1, 2, 2, 1, 1, 2, 1, 1, 1, 1, 1, 1, 2, 2, 1, 1, 1, 1, 1, 1, 2, 1, 1, 1, 2, 1, 2, 1, 1, 2, 2, 1, 2, 1, 2, 1, 2, 1, 1, 1, 2, 1, 1, 1, 1, 2, 1, 1, 2, 2, 1, 1, 1, 1, 2, 1, 1, 1, 1, 1, 2, 1, 1, 1, 1, 2, 2, 2, 2, 1, 1, 2, 1, 2, 1, 2, 1, 2, 1, 1, 1, 2, 2, 1, 1, 1, 1, 2, 2, 2, 2, 1, 1, 1, 2, 1, 1, 1, 1, 1, 2, 1, 1, 1, 2, 1, 2, 1, 2, 1, 2, 1, 2, 1, 1, 2, 1, 1, 2, 1, 1, 2, 1, 2, 1, 2, 1, 1, 2, 1, 1, 1, 1, 1, 1, 1, 1, 1, 2, 1, 2, 1, 1, 1, 1, 1, 1, 1, 1, 2, 1, 1, 1, 1, 1, 1, 1, 1, 1, 1, 2, 1, 2, 2, 2, 1, 1, 1, 2, 2, 1, 1, 2, 2, 2, 1, 2, 1, 1, 1, 1, 1, 2, 1, 1, 1, 2, 1, 1, 1, 2, 1, 1, 2, 2, 1, 1, 1, 2, 1, 1, 1, 1, 2, 1, 1, 1, 2, 1, 2, 1, 2, 2, 2, 1, 2, 1, 2, 2, 2, 1, 1, 1, 2, 1, 1, 1, 2, 1, 1, 1, 1, 1, 2, 1, 1, 1, 2, 1, 1, 1, 1, 2, 1, 1, 2, 2, 1, 1, 1, 1, 1, 2, 1, 2, 2, 2, 1, 2, 2, 2, 1, 2, 2, 2, 2, 1, 1, 2, 1, 1, 2, 1, 1, 1, 1, 2, 2, 1, 2, 1, 1, 2, 1, 2, 1, 2, 1, 1, 2, 1, 1, 1, 1, 1, 1, 1, 1, 2, 1, 1, 2, 2, 1, 2, 1, 1, 1, 2, 1, 1, 1, 1, 2, 1, 1, 1, 1, 2, 2, 1, 1, 1, 1, 1, 1, 1, 1, 2, 2, 2, 2, 1, 1, 2, 1, 1, 1, 2, 1, 2, 1, 1, 1, 1, 2, 2, 1, 1, 1, 2, 1, 2, 1, 1, 1, 1, 2, 1, 1, 1, 1, 1, 2, 1, 1, 1, 2, 1, 2, 1, 2, 2, 2, 1, 1, 1, 1, 2, 1, 2, 1, 1, 1, 1, 1, 2, 2, 2, 2, 1, 1, 2, 2, 2, 1, 1, 1, 2, 1, 1, 1, 1, 2, 1, 2, 1, 1, 2, 1, 2, 2, 1, 1, 2, 1, 1, 1, 2, 1, 2, 1, 2, 1, 2, 1, 1, 2, 1, 1, 2, 1, 1, 1, 2, 1, 1, 2, 2, 1, 1, 1, 1, 2, 2, 1, 1, 1, 2, 1, 2, 1, 1, 1, 2, 2, 1, 2, 1, 1, 1, 1, 1, 2, 1, 2, 2, 1, 2, 1, 2, 1, 1, 1, 1, 2, 1, 1, 1, 2, 2, 1, 2, 2, 2, 1, 2, 1, 2, 1, 2, 1, 1, 1, 1, 1, 1, 2, 1, 1, 2, 2, 1, 1, 1, 1, 1, 2, 2, 2, 1, 1, 1, 1, 1, 1, 1, 2, 2, 1, 1, 1, 2, 1, 1, 1, 1, 1, 1, 1, 1, 2, 1, 2, 1, 1, 1, 1, 2, 2, 2, 1, 1, 2, 1, 1, 2, 1, 1, 1, 1, 1, 2, 1, 1, 1, 1, 1, 2, 1, 1, 2, 1, 2, 2, 2, 1, 1, 2, 2]\n"
     ]
    }
   ],
   "source": [
    "random.seed(0)\n",
    "Subset_id = [1] * (len(clinical) - 200) + [2] * 200\n",
    "random.shuffle(Subset_id)\n"
   ]
  },
  {
   "cell_type": "markdown",
   "metadata": {},
   "source": [
    "### Summarize data partition for Danenbert_et_al (Fig.3.a)"
   ]
  },
  {
   "cell_type": "markdown",
   "metadata": {},
   "source": []
  }
 ],
 "metadata": {
  "kernelspec": {
   "display_name": "cell-gnn",
   "language": "python",
   "name": "python3"
  },
  "language_info": {
   "codemirror_mode": {
    "name": "ipython",
    "version": 3
   },
   "file_extension": ".py",
   "mimetype": "text/x-python",
   "name": "python",
   "nbconvert_exporter": "python",
   "pygments_lexer": "ipython3",
   "version": "3.8.10"
  }
 },
 "nbformat": 4,
 "nbformat_minor": 2
}
